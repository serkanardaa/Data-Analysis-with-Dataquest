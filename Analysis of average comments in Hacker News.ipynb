{
 "cells": [
  {
   "cell_type": "markdown",
   "metadata": {
    "collapsed": true
   },
   "source": [
    "# Analysing Comment Distribution of Hacker News Posts Depending on Time and Title"
   ]
  },
  {
   "cell_type": "markdown",
   "metadata": {},
   "source": [
    "Hacker News is a very useful environment that many programmers and analysers uses for their questions to be answered or showing their projects and ideas. Depending on the post types and date of posting, the comment that each post recieves may change."
   ]
  },
  {
   "cell_type": "markdown",
   "metadata": {},
   "source": [
    "  In this project, we are going to analyse how the average comment behavior changes considering the title types and the submission date of the post."
   ]
  },
  {
   "cell_type": "markdown",
   "metadata": {},
   "source": [
    "Below code prepares us the database to work on it as a list of lists."
   ]
  },
  {
   "cell_type": "code",
   "execution_count": 2,
   "metadata": {
    "collapsed": true
   },
   "outputs": [],
   "source": [
    "from csv import reader\n",
    "open_file = open(\"hacker_news.csv\")\n",
    "read_file = reader(open_file)\n",
    "hn = list(read_file)"
   ]
  },
  {
   "cell_type": "markdown",
   "metadata": {},
   "source": [
    "Here are the first 5 rows of hn:"
   ]
  },
  {
   "cell_type": "code",
   "execution_count": 3,
   "metadata": {
    "collapsed": false
   },
   "outputs": [
    {
     "name": "stdout",
     "output_type": "stream",
     "text": [
      "['id', 'title', 'url', 'num_points', 'num_comments', 'author', 'created_at']\n",
      "\n",
      "\n",
      "['12224879', 'Interactive Dynamic Video', 'http://www.interactivedynamicvideo.com/', '386', '52', 'ne0phyte', '8/4/2016 11:52']\n",
      "\n",
      "\n",
      "['10975351', 'How to Use Open Source and Shut the Fuck Up at the Same Time', 'http://hueniverse.com/2016/01/26/how-to-use-open-source-and-shut-the-fuck-up-at-the-same-time/', '39', '10', 'josep2', '1/26/2016 19:30']\n",
      "\n",
      "\n",
      "['11964716', \"Florida DJs May Face Felony for April Fools' Water Joke\", 'http://www.thewire.com/entertainment/2013/04/florida-djs-april-fools-water-joke/63798/', '2', '1', 'vezycash', '6/23/2016 22:20']\n",
      "\n",
      "\n",
      "['11919867', 'Technology ventures: From Idea to Enterprise', 'https://www.amazon.com/Technology-Ventures-Enterprise-Thomas-Byers/dp/0073523429', '3', '1', 'hswarna', '6/17/2016 0:01']\n",
      "\n",
      "\n"
     ]
    }
   ],
   "source": [
    "for i in range(0,5):\n",
    "    print(hn[i])\n",
    "    print('\\n')"
   ]
  },
  {
   "cell_type": "markdown",
   "metadata": {},
   "source": [
    "Now we will extract the first row of the data since it contains the column names"
   ]
  },
  {
   "cell_type": "code",
   "execution_count": 4,
   "metadata": {
    "collapsed": false,
    "scrolled": true
   },
   "outputs": [
    {
     "name": "stdout",
     "output_type": "stream",
     "text": [
      "['id', 'title', 'url', 'num_points', 'num_comments', 'author', 'created_at'] \n",
      "\n",
      "[['12224879', 'Interactive Dynamic Video', 'http://www.interactivedynamicvideo.com/', '386', '52', 'ne0phyte', '8/4/2016 11:52'], ['10975351', 'How to Use Open Source and Shut the Fuck Up at the Same Time', 'http://hueniverse.com/2016/01/26/how-to-use-open-source-and-shut-the-fuck-up-at-the-same-time/', '39', '10', 'josep2', '1/26/2016 19:30'], ['11964716', \"Florida DJs May Face Felony for April Fools' Water Joke\", 'http://www.thewire.com/entertainment/2013/04/florida-djs-april-fools-water-joke/63798/', '2', '1', 'vezycash', '6/23/2016 22:20'], ['11919867', 'Technology ventures: From Idea to Enterprise', 'https://www.amazon.com/Technology-Ventures-Enterprise-Thomas-Byers/dp/0073523429', '3', '1', 'hswarna', '6/17/2016 0:01'], ['10301696', 'Note by Note: The Making of Steinway L1037 (2007)', 'http://www.nytimes.com/2007/11/07/movies/07stein.html?_r=0', '8', '2', 'walterbell', '9/30/2015 4:12']]\n"
     ]
    }
   ],
   "source": [
    "header = hn[0]\n",
    "del hn[0]\n",
    "print(header,'\\n')\n",
    "print(hn[:5])"
   ]
  },
  {
   "cell_type": "markdown",
   "metadata": {},
   "source": [
    "Now we would like to create lists for different types of posts such as ask posts, show posts, and other posts."
   ]
  },
  {
   "cell_type": "code",
   "execution_count": 25,
   "metadata": {
    "collapsed": false
   },
   "outputs": [],
   "source": [
    "ask_posts = list()\n",
    "show_posts = list()\n",
    "other_posts = list()"
   ]
  },
  {
   "cell_type": "markdown",
   "metadata": {},
   "source": [
    "We need to check title column values and add the corresponding row to our lists accordingly"
   ]
  },
  {
   "cell_type": "code",
   "execution_count": 26,
   "metadata": {
    "collapsed": false
   },
   "outputs": [],
   "source": [
    "for row in hn:\n",
    "    title = row[1]\n",
    "    if title.lower().startswith('ask hn'):\n",
    "        ask_posts.append(row)\n",
    "    elif title.lower().startswith('show hn'):\n",
    "        show_posts.append(row)\n",
    "    else:\n",
    "        other_posts.append(row)"
   ]
  },
  {
   "cell_type": "markdown",
   "metadata": {},
   "source": [
    "The title categories are ready now and we can check the number of posts for each of these categories"
   ]
  },
  {
   "cell_type": "code",
   "execution_count": 27,
   "metadata": {
    "collapsed": false
   },
   "outputs": [
    {
     "name": "stdout",
     "output_type": "stream",
     "text": [
      "1744\n",
      "1162\n",
      "17194\n"
     ]
    }
   ],
   "source": [
    "print(len(ask_posts))\n",
    "print(len(show_posts))\n",
    "print(len(other_posts))"
   ]
  },
  {
   "cell_type": "markdown",
   "metadata": {},
   "source": [
    "Then we are going to calculate total and average comments for each category"
   ]
  },
  {
   "cell_type": "markdown",
   "metadata": {},
   "source": [
    "## Ask Post  Comments"
   ]
  },
  {
   "cell_type": "code",
   "execution_count": 31,
   "metadata": {
    "collapsed": false
   },
   "outputs": [
    {
     "name": "stdout",
     "output_type": "stream",
     "text": [
      "14.038417431192661\n"
     ]
    }
   ],
   "source": [
    "total_ask_comments = 0\n",
    "#Total num of comments in ask posts initialization\n",
    "\n",
    "for row in ask_posts:\n",
    "    num_comments = int(row[4])\n",
    "    total_ask_comments += num_comments\n",
    "#Calculated the total number of comments in ask posts\n",
    "\n",
    "avg_ask_comments = total_ask_comments / len(ask_posts)\n",
    "print(avg_ask_comments)"
   ]
  },
  {
   "cell_type": "markdown",
   "metadata": {},
   "source": [
    "## Show Post Comments"
   ]
  },
  {
   "cell_type": "code",
   "execution_count": 32,
   "metadata": {
    "collapsed": false
   },
   "outputs": [
    {
     "name": "stdout",
     "output_type": "stream",
     "text": [
      "10.31669535283993\n"
     ]
    }
   ],
   "source": [
    "total_show_comments = 0\n",
    "#Total num of comments in show posts initialization\n",
    "\n",
    "for row in show_posts:\n",
    "    num_comments = int(row[4])\n",
    "    total_show_comments += num_comments\n",
    "#Calculated the total number of comments in show posts\n",
    "\n",
    "avg_show_comments = total_show_comments / len(show_posts)\n",
    "print(avg_show_comments)"
   ]
  },
  {
   "cell_type": "markdown",
   "metadata": {},
   "source": [
    "Since the average of total comments of ask posts are higher than show posts, we are going to concentrate on ask posts and analyse hourly post number and comment number"
   ]
  },
  {
   "cell_type": "code",
   "execution_count": 35,
   "metadata": {
    "collapsed": false
   },
   "outputs": [],
   "source": [
    "import datetime as dt\n",
    "result_list = list()\n",
    "for row in ask_posts:\n",
    "    created_at = row[6]\n",
    "    num_comments = int(row[4])\n",
    "    result_list.append([created_at, num_comments])\n",
    "# We have created a list containing create date and num of comments for each ask post"
   ]
  },
  {
   "cell_type": "markdown",
   "metadata": {},
   "source": [
    "Then we create two different dictionaries for analysing post counts and number of comments by hour separately"
   ]
  },
  {
   "cell_type": "code",
   "execution_count": 37,
   "metadata": {
    "collapsed": false
   },
   "outputs": [],
   "source": [
    "counts_by_hour = {}\n",
    "comments_by_hour = {}\n",
    "\n",
    "for row in result_list:   \n",
    "    \n",
    "    raw_date = row[0]\n",
    "    comment = row[1]\n",
    "    dt_obj = dt.datetime.strptime(raw_date,'%m/%d/%Y %H:%M')\n",
    "    hour = dt_obj.strftime('%H')\n",
    "    \n",
    "    if hour not in counts_by_hour:\n",
    "        counts_by_hour[hour] = 1\n",
    "        comments_by_hour[hour] = comment\n",
    "    else:\n",
    "        counts_by_hour[hour] += 1\n",
    "        comments_by_hour[hour] += comment"
   ]
  },
  {
   "cell_type": "code",
   "execution_count": 39,
   "metadata": {
    "collapsed": false
   },
   "outputs": [
    {
     "name": "stdout",
     "output_type": "stream",
     "text": [
      "{'14': 107, '00': 55, '10': 59, '12': 73, '09': 45, '03': 54, '17': 100, '07': 34, '21': 109, '05': 46, '16': 108, '15': 116, '04': 47, '22': 71, '02': 58, '13': 85, '19': 110, '01': 60, '18': 109, '23': 68, '11': 58, '06': 44, '08': 48, '20': 80}\n",
      "{'14': 1416, '00': 447, '10': 793, '12': 687, '09': 251, '03': 421, '17': 1146, '07': 267, '21': 1745, '05': 464, '16': 1814, '15': 4477, '04': 337, '22': 479, '02': 1381, '13': 1253, '19': 1188, '01': 683, '18': 1439, '23': 543, '11': 641, '06': 397, '08': 492, '20': 1722}\n"
     ]
    }
   ],
   "source": [
    "print(counts_by_hour)\n",
    "print(comments_by_hour)"
   ]
  },
  {
   "cell_type": "markdown",
   "metadata": {},
   "source": [
    "Now we can calculate the average number of comments per hour by using these dictionaries"
   ]
  },
  {
   "cell_type": "code",
   "execution_count": 52,
   "metadata": {
    "collapsed": false
   },
   "outputs": [
    {
     "name": "stdout",
     "output_type": "stream",
     "text": [
      "['14', 13.233644859813085] \n",
      "\n",
      "['00', 8.127272727272727] \n",
      "\n",
      "['10', 13.440677966101696] \n",
      "\n",
      "['12', 9.41095890410959] \n",
      "\n",
      "['09', 5.5777777777777775] \n",
      "\n",
      "['03', 7.796296296296297] \n",
      "\n",
      "['17', 11.46] \n",
      "\n",
      "['07', 7.852941176470588] \n",
      "\n",
      "['21', 16.009174311926607] \n",
      "\n",
      "['05', 10.08695652173913] \n",
      "\n",
      "['16', 16.796296296296298] \n",
      "\n",
      "['15', 38.5948275862069] \n",
      "\n",
      "['04', 7.170212765957447] \n",
      "\n",
      "['22', 6.746478873239437] \n",
      "\n",
      "['02', 23.810344827586206] \n",
      "\n",
      "['13', 14.741176470588234] \n",
      "\n",
      "['19', 10.8] \n",
      "\n",
      "['01', 11.383333333333333] \n",
      "\n",
      "['18', 13.20183486238532] \n",
      "\n",
      "['23', 7.985294117647059] \n",
      "\n",
      "['11', 11.051724137931034] \n",
      "\n",
      "['06', 9.022727272727273] \n",
      "\n",
      "['08', 10.25] \n",
      "\n",
      "['20', 21.525] \n",
      "\n"
     ]
    }
   ],
   "source": [
    "avg_by_hour = list()\n",
    "for hour in counts_by_hour:\n",
    "    avg_by_hour.append([hour,comments_by_hour[hour] / counts_by_hour[hour]])\n",
    "    \n",
    "for row in range(len(avg_by_hour)):\n",
    "    print(avg_by_hour[row],'\\n')"
   ]
  },
  {
   "cell_type": "markdown",
   "metadata": {},
   "source": [
    "We have found the average comments per hour. But we would like to show it in a more proper way."
   ]
  },
  {
   "cell_type": "code",
   "execution_count": 53,
   "metadata": {
    "collapsed": false
   },
   "outputs": [
    {
     "name": "stdout",
     "output_type": "stream",
     "text": [
      "[[13.233644859813085, '14'], [8.127272727272727, '00'], [13.440677966101696, '10'], [9.41095890410959, '12'], [5.5777777777777775, '09'], [7.796296296296297, '03'], [11.46, '17'], [7.852941176470588, '07'], [16.009174311926607, '21'], [10.08695652173913, '05'], [16.796296296296298, '16'], [38.5948275862069, '15'], [7.170212765957447, '04'], [6.746478873239437, '22'], [23.810344827586206, '02'], [14.741176470588234, '13'], [10.8, '19'], [11.383333333333333, '01'], [13.20183486238532, '18'], [7.985294117647059, '23'], [11.051724137931034, '11'], [9.022727272727273, '06'], [10.25, '08'], [21.525, '20']]\n"
     ]
    }
   ],
   "source": [
    "swap_avg_by_hour = list()\n",
    "for row in avg_by_hour:\n",
    "    first = row[1]\n",
    "    second = row[0]\n",
    "    swap_avg_by_hour.append([first,second])\n",
    "\n",
    "print(swap_avg_by_hour)"
   ]
  },
  {
   "cell_type": "code",
   "execution_count": 56,
   "metadata": {
    "collapsed": false
   },
   "outputs": [
    {
     "name": "stdout",
     "output_type": "stream",
     "text": [
      "Top 5 Hours for Ask Posts Comments\n",
      "15:00 38.59 average comments per post\n",
      "02:00 23.81 average comments per post\n",
      "20:00 21.52 average comments per post\n",
      "16:00 16.80 average comments per post\n",
      "21:00 16.01 average comments per post\n"
     ]
    }
   ],
   "source": [
    "sorted_swap = sorted(swap_avg_by_hour,reverse = True)\n",
    "print('Top 5 Hours for Ask Posts Comments')\n",
    "for avg,hour in sorted_swap[:5]:\n",
    "    dt_hour = dt.datetime.strptime(hour,'%H')\n",
    "    dt_formated = dt_hour.strftime('%H:%M')\n",
    "    main_str = \"{H} {AVG:.2f} average comments per post\"\n",
    "    print_str = main_str.format(H = dt_formated, AVG = avg) \n",
    "    print(print_str)\n",
    "    "
   ]
  },
  {
   "cell_type": "markdown",
   "metadata": {},
   "source": [
    "Now we have seen that the top hours for posting an ask post are\n",
    "* 15:00\n",
    "* 02:00\n",
    "* 20:00\n",
    "* 16:00\n",
    "* 21:00\n",
    "\n",
    "But since I am living in Turkey. I need to calculate them from UTC(-05:00) to UTC(+03:00)\n",
    "To do that, I will be adding some time delta to the hours:"
   ]
  },
  {
   "cell_type": "code",
   "execution_count": 59,
   "metadata": {
    "collapsed": false
   },
   "outputs": [
    {
     "name": "stdout",
     "output_type": "stream",
     "text": [
      "Top 5 Hours for Ask Posts Comments for Turkey\n",
      "23:00 38.59 average comments per post\n",
      "10:00 23.81 average comments per post\n",
      "04:00 21.52 average comments per post\n",
      "00:00 16.80 average comments per post\n",
      "05:00 16.01 average comments per post\n"
     ]
    }
   ],
   "source": [
    "print('Top 5 Hours for Ask Posts Comments for Turkey')\n",
    "for avg,hour in sorted_swap[:5]:\n",
    "    dt_hour = dt.datetime.strptime(hour,'%H') + dt.timedelta(hours = 8)\n",
    "    #updated the hour according to my UTC\n",
    "    \n",
    "    dt_formated = dt_hour.strftime('%H:%M')\n",
    "    main_str = \"{H} {AVG:.2f} average comments per post\"\n",
    "    print_str = main_str.format(H = dt_formated , AVG = avg) \n",
    "    print(print_str)"
   ]
  }
 ],
 "metadata": {
  "kernelspec": {
   "display_name": "Python 3",
   "language": "python",
   "name": "python3"
  },
  "language_info": {
   "codemirror_mode": {
    "name": "ipython",
    "version": 3
   },
   "file_extension": ".py",
   "mimetype": "text/x-python",
   "name": "python",
   "nbconvert_exporter": "python",
   "pygments_lexer": "ipython3",
   "version": "3.4.3"
  }
 },
 "nbformat": 4,
 "nbformat_minor": 2
}
