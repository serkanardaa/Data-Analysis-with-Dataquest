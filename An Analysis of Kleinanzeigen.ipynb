{
 "cells": [
  {
   "cell_type": "markdown",
   "metadata": {
    "collapsed": true
   },
   "source": [
    "In this project, we are going to analyze the car listing which is belong to Kleinanzeigen, a dataset of used cars from eBay. The data consists of 50.000 rows for each car ad in ebay"
   ]
  },
  {
   "cell_type": "markdown",
   "metadata": {},
   "source": [
    "With given columns, we will be able to detect the relationship between metrics such as price and vehicle type, gearbox, brand, kilometer etc."
   ]
  },
  {
   "cell_type": "markdown",
   "metadata": {},
   "source": [
    "## Data Investigation"
   ]
  },
  {
   "cell_type": "code",
   "execution_count": 1,
   "metadata": {
    "collapsed": false
   },
   "outputs": [],
   "source": [
    "import pandas as pn\n",
    "import numpy as np\n",
    "autos = pn.read_csv(\"autos.csv\", encoding = \"Latin-1\")"
   ]
  },
  {
   "cell_type": "code",
   "execution_count": null,
   "metadata": {
    "collapsed": false
   },
   "outputs": [],
   "source": [
    "autos"
   ]
  },
  {
   "cell_type": "code",
   "execution_count": null,
   "metadata": {
    "collapsed": false
   },
   "outputs": [],
   "source": [
    "autos.info()\n",
    "autos.head()"
   ]
  },
  {
   "cell_type": "markdown",
   "metadata": {
    "collapsed": true
   },
   "source": [
    "We can see thhat there are both integer and object based column in our database. Considering some of the columns with numerical values, we can edit them and set as integer instead of objects. This will help us to organize and analyze data more easily."
   ]
  },
  {
   "cell_type": "markdown",
   "metadata": {},
   "source": [
    "As first modification, we are going to set the column name formats from camelcase to snakecase as preferred column format of python:"
   ]
  },
  {
   "cell_type": "markdown",
   "metadata": {},
   "source": [
    "## Column Names Modification"
   ]
  },
  {
   "cell_type": "code",
   "execution_count": null,
   "metadata": {
    "collapsed": false
   },
   "outputs": [],
   "source": [
    "autos.columns #Columns are currently in camelcase format"
   ]
  },
  {
   "cell_type": "code",
   "execution_count": 2,
   "metadata": {
    "collapsed": true
   },
   "outputs": [],
   "source": [
    "autos.rename(columns={'yearOfRegistration':'registration_year','monthOfRegistration':'registration_month',\n",
    "                      'notRepairedDamage':'unrepaired_damage','dateCreated':'ad_created',\n",
    "                      'dateCrawled':'date_crawled','offerType':'offer_type',\n",
    "                      'vehicleType':'vehicle_type','powerPS':'power_ps',\n",
    "                      'fuelType':'fuel_type',\n",
    "                      'nrOfPictures':'nr_of_pictures','postalCode':'postal_code',\n",
    "                      'lastSeen':'last_seen'}, inplace = True )"
   ]
  },
  {
   "cell_type": "code",
   "execution_count": null,
   "metadata": {
    "collapsed": false
   },
   "outputs": [],
   "source": [
    "autos.columns #Columns are updated as snakecase\n",
    "autos.head()"
   ]
  },
  {
   "cell_type": "markdown",
   "metadata": {},
   "source": [
    "Now we can see that columns are set as snakecase as we desired."
   ]
  },
  {
   "cell_type": "code",
   "execution_count": null,
   "metadata": {
    "collapsed": false
   },
   "outputs": [],
   "source": [
    "autos.describe(include ='all')"
   ]
  },
  {
   "cell_type": "markdown",
   "metadata": {},
   "source": [
    "* When we analyse the data, we see that some of columns such as \"seller\", \"offer_type\" contain mostly 1 value which is privat for \"seller\" and Angebot for \"offer_type\".\n",
    "* It seems nr_of_pictures and postal_code columns have NaN value of unique values which must be examined.\n",
    "* If we convert columns such as price, odometer by removing sings inside them, we can analyze them better"
   ]
  },
  {
   "cell_type": "code",
   "execution_count": 3,
   "metadata": {
    "collapsed": false
   },
   "outputs": [],
   "source": [
    "autos.price = autos.price.str.replace(\"$\",\"\")\n",
    "autos.price = autos.price.str.replace(\",\",\"\")\n",
    "autos[\"price\"] = autos[\"price\"].astype(int)\n",
    "\n",
    "autos.odometer = autos.odometer.str.replace(\"km\",\"\")\n",
    "autos.odometer = autos.odometer.str.replace(\",\",\"\")\n",
    "autos[\"odometer\"] = autos[\"odometer\"].astype(int)\n",
    "autos.rename(columns = {\"odometer\":\"odometer_km\"},inplace = True)\n",
    "\n",
    "\n"
   ]
  },
  {
   "cell_type": "code",
   "execution_count": null,
   "metadata": {
    "collapsed": false
   },
   "outputs": [],
   "source": [
    "autos.info()"
   ]
  },
  {
   "cell_type": "markdown",
   "metadata": {},
   "source": [
    "We have set the dtypes of price and odometer columns to integer while changing the name of otometer to otometer_km in order to keep the value information"
   ]
  },
  {
   "cell_type": "markdown",
   "metadata": {},
   "source": [
    "Now lets investigate the outliers of price and odometer_km columns:"
   ]
  },
  {
   "cell_type": "code",
   "execution_count": null,
   "metadata": {
    "collapsed": false
   },
   "outputs": [],
   "source": [
    "#autos[\"price\"].unique().shape\n",
    "#autos[\"price\"].describe()\n",
    "#autos[\"price\"].value_counts().sort_index(ascending = False)\n",
    "\n",
    "#autos[\"odometer_km\"].unique().shape\n",
    "#autos[\"odometer_km\"].describe()\n",
    "#autos[\"odometer_km\"].value_counts().sort_index(ascending = False)"
   ]
  },
  {
   "cell_type": "markdown",
   "metadata": {},
   "source": [
    "We see that odometer_km seems to have logical values in terms of km. But in price column, there are values that are out of logic for both low values and high values. For that reason, prices which are higher than 1 and lower than 10.000.000 will be set as our new dataset."
   ]
  },
  {
   "cell_type": "code",
   "execution_count": 4,
   "metadata": {
    "collapsed": false
   },
   "outputs": [],
   "source": [
    "autos = autos[autos[\"price\"].between(1,10000000)]"
   ]
  },
  {
   "cell_type": "code",
   "execution_count": null,
   "metadata": {
    "collapsed": false
   },
   "outputs": [],
   "source": [
    "autos[\"price\"].describe()"
   ]
  },
  {
   "cell_type": "markdown",
   "metadata": {},
   "source": [
    "## Date Columns"
   ]
  },
  {
   "cell_type": "markdown",
   "metadata": {},
   "source": [
    "When we analyze our data, there are totally 5 columns that represent date related information. These are:\n",
    "* `date_crawled`: added by the crawler\n",
    "* `last_seen`: added by the crawler\n",
    "* `ad_created`: from the website\n",
    "* `registration_month`: from the website\n",
    "* `registration_year`: from the website\n",
    "Although the last two are in numeric column type, the first three are in string column type. In order to analyze better, we need to modify them and set as numeric as well."
   ]
  },
  {
   "cell_type": "code",
   "execution_count": null,
   "metadata": {
    "collapsed": false
   },
   "outputs": [],
   "source": [
    "autos[[\"date_crawled\",\"last_seen\",\"ad_created\",\"registration_month\",\"registration_year\"]]"
   ]
  },
  {
   "cell_type": "code",
   "execution_count": null,
   "metadata": {
    "collapsed": false
   },
   "outputs": [],
   "source": [
    "#autos[\"date_crawled\"].str[:10].value_counts(normalize = True, dropna = False).sort_index(ascending = True)\n",
    "#autos[\"last_seen\"].str[:10].value_counts(normalize = True, dropna = False).sort_index(ascending = True)\n",
    "#autos[\"ad_created\"].str[:10].value_counts(normalize = True, dropna = False).sort_index(ascending = True)\n",
    "#autos[\"registration_month\"].describe()\n",
    "#autos[\"registration_month\"].value_counts().sort_index(ascending = True)\n",
    "autos[\"registration_year\"].describe()"
   ]
  },
  {
   "cell_type": "markdown",
   "metadata": {},
   "source": [
    "We see that registration_year contains some irrelevant years such as 1000 and 9999 as well as registration_month contains month value 0. Let's check and try to remove rows with unreliable year values if their amount is not exceeding the majority that can affect the quality of our database."
   ]
  },
  {
   "cell_type": "code",
   "execution_count": 5,
   "metadata": {
    "collapsed": false
   },
   "outputs": [
    {
     "data": {
      "text/plain": [
       "1000       1\n",
       "1001       1\n",
       "1111       1\n",
       "1800       2\n",
       "2017    1392\n",
       "2018     470\n",
       "2019       2\n",
       "2800       1\n",
       "4100       1\n",
       "4500       1\n",
       "4800       1\n",
       "5000       4\n",
       "5911       1\n",
       "6200       1\n",
       "8888       1\n",
       "9000       1\n",
       "9999       3\n",
       "Name: registration_year, dtype: int64"
      ]
     },
     "execution_count": 5,
     "metadata": {},
     "output_type": "execute_result"
    }
   ],
   "source": [
    "incorrect = (autos[\"registration_year\"] < 1900) | (autos[\"registration_year\"] > 2016)\n",
    "autos.loc[incorrect,\"registration_year\"].value_counts().sort_index(ascending = True)"
   ]
  },
  {
   "cell_type": "markdown",
   "metadata": {},
   "source": [
    "We see that 2017 and 2018 years contain much more data than the other outliers. So it would be better remove the outliers excluding 2017 and 2018."
   ]
  },
  {
   "cell_type": "code",
   "execution_count": 6,
   "metadata": {
    "collapsed": false
   },
   "outputs": [
    {
     "data": {
      "text/plain": [
       "2018    0.009681\n",
       "2017    0.028671\n",
       "2016    0.025129\n",
       "2015    0.008074\n",
       "2014    0.013656\n",
       "2013    0.016540\n",
       "2012    0.026982\n",
       "2011    0.033429\n",
       "2010    0.032729\n",
       "2009    0.042966\n",
       "2008    0.045623\n",
       "2007    0.046900\n",
       "2006    0.055015\n",
       "2005    0.060474\n",
       "2004    0.055675\n",
       "2003    0.055592\n",
       "2002    0.051205\n",
       "2001    0.054295\n",
       "2000    0.065005\n",
       "1999    0.059691\n",
       "1998    0.048671\n",
       "1997    0.040185\n",
       "1996    0.028280\n",
       "1995    0.025273\n",
       "1994    0.012956\n",
       "1993    0.008754\n",
       "1992    0.007642\n",
       "1991    0.006982\n",
       "1990    0.007147\n",
       "1989    0.003584\n",
       "          ...   \n",
       "1968    0.000536\n",
       "1967    0.000536\n",
       "1966    0.000453\n",
       "1965    0.000350\n",
       "1964    0.000247\n",
       "1963    0.000165\n",
       "1962    0.000082\n",
       "1961    0.000124\n",
       "1960    0.000494\n",
       "1959    0.000124\n",
       "1958    0.000082\n",
       "1957    0.000041\n",
       "1956    0.000082\n",
       "1955    0.000041\n",
       "1954    0.000041\n",
       "1953    0.000021\n",
       "1952    0.000021\n",
       "1951    0.000041\n",
       "1950    0.000062\n",
       "1948    0.000021\n",
       "1943    0.000021\n",
       "1941    0.000041\n",
       "1939    0.000021\n",
       "1938    0.000021\n",
       "1937    0.000082\n",
       "1934    0.000041\n",
       "1931    0.000021\n",
       "1929    0.000021\n",
       "1927    0.000021\n",
       "1910    0.000103\n",
       "Name: registration_year, Length: 80, dtype: float64"
      ]
     },
     "execution_count": 6,
     "metadata": {},
     "output_type": "execute_result"
    }
   ],
   "source": [
    "autos = autos[autos[\"registration_year\"].between(1900,2018)]\n",
    "autos[\"registration_year\"].value_counts(normalize = True).sort_index(ascending = False)"
   ]
  },
  {
   "cell_type": "markdown",
   "metadata": {},
   "source": [
    "## Brand Analysis"
   ]
  },
  {
   "cell_type": "markdown",
   "metadata": {},
   "source": [
    "Now we can start to analyze our database in terms of brand and their distribution among Ebay."
   ]
  },
  {
   "cell_type": "code",
   "execution_count": 7,
   "metadata": {
    "collapsed": false
   },
   "outputs": [
    {
     "name": "stdout",
     "output_type": "stream",
     "text": [
      "{'chrysler': 3519.3846153846152, 'subaru': 3940.470588235294, 'kia': 5889.298550724638, 'bmw': 8493.857251184834, 'fiat': 2793.8700475435817, 'mitsubishi': 3386.911838790932, 'seat': 4320.168661588684, 'volvo': 4866.993166287016, 'jeep': 11590.214953271028, 'mazda': 4059.059539918809, 'suzuki': 4137.807692307692, 'saab': 3183.493670886076, 'peugeot': 3065.611888111888, 'toyota': 5148.0032733224225, 'citroen': 3756.07299270073, 'lancia': 3182.0, 'jaguar': 11525.554054054053, 'smart': 3518.102305475504, 'porsche': 45624.27177700349, 'lada': 2647.7241379310344, 'daihatsu': 1628.4262295081967, 'hyundai': 5371.792960662526, 'volkswagen': 5525.717507016356, 'daewoo': 1079.342105263158, 'land_rover': 18934.272727272728, 'chevrolet': 6620.069090909091, 'ford': 4022.9054093999407, 'dacia': 5897.736434108527, 'mercedes_benz': 8526.623225806452, 'opel': 2941.4664391353813, 'renault': 2431.195698924731, 'trabant': 1789.6268656716418, 'mini': 10541.566985645934, 'skoda': 6353.544871794872, 'rover': 1586.4923076923078, 'alfa_romeo': 4050.725, 'audi': 9212.9306621881, 'honda': 4010.217054263566, 'nissan': 4669.3859649122805, 'sonstige_autos': 44381.44161358811} \n",
      "\n",
      "{'chrysler': 20000, 'subaru': 31800, 'kia': 28450, 'bmw': 1234566, 'fiat': 25000, 'mitsubishi': 37800, 'seat': 33500, 'volvo': 29500, 'jeep': 55800, 'mazda': 38900, 'suzuki': 23200, 'saab': 18900, 'peugeot': 25500, 'toyota': 49500, 'citroen': 33000, 'lancia': 29500, 'jaguar': 58900, 'smart': 16850, 'porsche': 350000, 'lada': 6500, 'daihatsu': 9900, 'hyundai': 29999, 'volkswagen': 999999, 'daewoo': 4200, 'land_rover': 99000, 'chevrolet': 56500, 'ford': 999999, 'dacia': 16350, 'mercedes_benz': 180000, 'opel': 38990, 'renault': 93000, 'trabant': 6480, 'mini': 34500, 'skoda': 32700, 'rover': 23500, 'alfa_romeo': 55000, 'audi': 175000, 'honda': 41900, 'nissan': 34999, 'sonstige_autos': 10000000}\n"
     ]
    }
   ],
   "source": [
    "unique_brands_mean_price = {}\n",
    "unique_brands_max_price = {}\n",
    "\n",
    "uniques = autos[\"brand\"].unique()\n",
    "for u in uniques:\n",
    "    selected_rows = autos[autos[\"brand\"] == u]\n",
    "    mean_price = selected_rows[\"price\"].mean()\n",
    "    max_price = selected_rows[\"price\"].max()\n",
    "    unique_brands_mean_price[u] = mean_price\n",
    "    unique_brands_max_price[u] = max_price\n",
    "\n",
    "print(unique_brands_mean_price,\"\\n\")\n",
    "print(unique_brands_max_price)"
   ]
  },
  {
   "cell_type": "markdown",
   "metadata": {},
   "source": [
    "We see that porsche is the brand that has the greatest price average among the others. The lowest price belongs to car brand daewoo.\n",
    "While checking the maximum prices for each brand, we notice the irrelevant values were belonging to volkswagen (999999) and sonstigue_autos (10000000). So it would have been better if we had deleted these values from our data."
   ]
  },
  {
   "cell_type": "markdown",
   "metadata": {},
   "source": [
    "In addition to price, we can analyze average mileage of the cars and try to detect a relationship between price and average mileage column. To do that, combining them in a dataframe will be a useful way for us."
   ]
  },
  {
   "cell_type": "code",
   "execution_count": 8,
   "metadata": {
    "collapsed": false
   },
   "outputs": [
    {
     "name": "stdout",
     "output_type": "stream",
     "text": [
      "                  mean_price   mean_mileage\n",
      "alfa_romeo       4050.725000  130984.375000\n",
      "audi             9212.930662  129492.562380\n",
      "bmw              8493.857251  132686.255924\n",
      "chevrolet        6620.069091   99472.727273\n",
      "chrysler         3519.384615  132366.863905\n",
      "citroen          3756.072993  120160.583942\n",
      "dacia            5897.736434   84728.682171\n",
      "daewoo           1079.342105  121644.736842\n",
      "daihatsu         1628.426230  115901.639344\n",
      "fiat             2793.870048  117567.353407\n",
      "ford             4022.905409  124349.689625\n",
      "honda            4010.217054  123359.173127\n",
      "hyundai          5371.792961  106718.426501\n",
      "jaguar          11525.554054  124527.027027\n",
      "jeep            11590.214953  127102.803738\n",
      "kia              5889.298551  112739.130435\n",
      "lada             2647.724138   85000.000000\n",
      "lancia           3182.000000  123090.909091\n",
      "land_rover      18934.272727  118333.333333\n",
      "mazda            4059.059540  124871.447903\n",
      "mercedes_benz    8526.623226  130848.387097\n",
      "mini            10541.566986   88899.521531\n",
      "mitsubishi       3386.911839  126549.118388\n",
      "nissan           4669.385965  118711.201080\n",
      "opel             2941.466439  129452.028821\n",
      "peugeot          3065.611888  127356.643357\n",
      "porsche         45624.271777   96759.581882\n",
      "renault          2431.195699  128062.365591\n",
      "rover            1586.492308  138230.769231\n",
      "saab             3183.493671  143670.886076\n",
      "seat             4320.168662  121768.226333\n",
      "skoda            6353.544872  110993.589744\n",
      "smart            3518.102305  100511.527378\n",
      "sonstige_autos  44381.441614   90467.091295\n",
      "subaru           3940.470588  125784.313725\n",
      "suzuki           4137.807692  108776.223776\n",
      "toyota           5148.003273  116219.312602\n",
      "trabant          1789.626866   55149.253731\n",
      "volkswagen       5525.717507  128959.643859\n",
      "volvo            4866.993166  138337.129841\n"
     ]
    }
   ],
   "source": [
    "ubmp = pn.Series(unique_brands_mean_price)\n",
    "\n",
    "\n",
    "unique_brands_avg_mileage = {}\n",
    "\n",
    "uniques = autos[\"brand\"].unique()\n",
    "for u in uniques:\n",
    "    selected_rows = autos[autos[\"brand\"] == u]\n",
    "    avg_mileage = selected_rows[\"odometer_km\"].mean()\n",
    "    unique_brands_avg_mileage[u] = avg_mileage\n",
    "    \n",
    "ubam = pn.Series(unique_brands_avg_mileage)\n",
    "\n",
    "\n",
    "combined = pn.DataFrame(ubmp,columns =[\"mean_price\"])\n",
    "combined[\"mean_mileage\"] = ubam\n",
    "print(combined)"
   ]
  },
  {
   "cell_type": "markdown",
   "metadata": {},
   "source": [
    "We see that there is not exactly a correlation between mean price and mean mileage."
   ]
  },
  {
   "cell_type": "markdown",
   "metadata": {},
   "source": [
    "## Word Translation"
   ]
  },
  {
   "cell_type": "markdown",
   "metadata": {},
   "source": [
    "While examining the data, we have seen that some of the columns have german language words. Let's map them to english."
   ]
  },
  {
   "cell_type": "code",
   "execution_count": 9,
   "metadata": {
    "collapsed": false
   },
   "outputs": [
    {
     "name": "stdout",
     "output_type": "stream",
     "text": [
      "['privat' 'gewerblich']\n",
      "['bus' 'limousine' 'kleinwagen' 'kombi' nan 'coupe' 'suv' 'cabrio'\n",
      " 'andere']\n",
      "['manuell' 'automatik' nan]\n",
      "['nein' nan 'ja']\n"
     ]
    }
   ],
   "source": [
    "autos\n",
    "u_seller = autos[\"seller\"].unique()\n",
    "u_vehicle_type = autos[\"vehicle_type\"].unique()\n",
    "u_gearbox = autos[\"gearbox\"].unique()\n",
    "u_unrepaired_damage = autos[\"unrepaired_damage\"].unique()\n",
    "print(u_seller) #privat(private) , gewerblich(commercial)\n",
    "print(u_vehicle_type) #bus (bus), limousine(limousine), kleinwagen(small car), kombi(station wagon)\n",
    "#, nan,coupe(coupe), suv(suv), cabrio(cabrio), andere(other)\n",
    "print(u_gearbox) # manuell(manual), automatik(automatic), nan\n",
    "print(u_unrepaired_damage) #nein(no), nan, ja(yes)"
   ]
  },
  {
   "cell_type": "markdown",
   "metadata": {},
   "source": [
    "We have investigated the german words and now we can create our dictionary for all german words."
   ]
  },
  {
   "cell_type": "code",
   "execution_count": 12,
   "metadata": {
    "collapsed": false
   },
   "outputs": [
    {
     "name": "stdout",
     "output_type": "stream",
     "text": [
      "['privat' 'gewerblich']\n",
      "['private' 'commercial']\n",
      "['bus' 'limousine' 'kleinwagen' 'kombi' nan 'coupe' 'suv' 'cabrio'\n",
      " 'andere']\n",
      "['bus' 'limousine' 'small car' 'station wagon' nan 'coupe' 'suv' 'cabrio'\n",
      " 'other']\n",
      "['manuell' 'automatik' nan]\n",
      "['manual' 'automatic' nan]\n",
      "['nein' nan 'ja']\n",
      "['no' nan 'yes']\n"
     ]
    }
   ],
   "source": [
    "ger_to_eng = {'privat':'private',\n",
    "              'gewerblich':'commercial',\n",
    "              'bus':'bus',\n",
    "              'limousine':'limousine',\n",
    "              'kleinwagen':'small car',\n",
    "              'kombi':'station wagon',\n",
    "              'coupe':'coupe',\n",
    "              'suv':'suv',\n",
    "              'cabrio':'cabrio',\n",
    "              'andere':'other',\n",
    "              'manuell':'manual',\n",
    "              'automatik':'automatic',\n",
    "              'nein':'no',\n",
    "              'ja':'yes'\n",
    "    \n",
    "}\n",
    "print(autos[\"seller\"].unique())\n",
    "autos['seller'] = autos['seller'].map(ger_to_eng)\n",
    "print(autos[\"seller\"].unique())\n",
    "\n",
    "print(autos[\"vehicle_type\"].unique())\n",
    "autos['vehicle_type'] = autos['vehicle_type'].map(ger_to_eng)\n",
    "print(autos[\"vehicle_type\"].unique())\n",
    "\n",
    "print(autos[\"gearbox\"].unique())\n",
    "autos['gearbox'] = autos['gearbox'].map(ger_to_eng)\n",
    "print(autos[\"gearbox\"].unique())\n",
    "\n",
    "print(autos[\"unrepaired_damage\"].unique())\n",
    "autos['unrepaired_damage'] = autos['unrepaired_damage'].map(ger_to_eng)\n",
    "print(autos[\"unrepaired_damage\"].unique())"
   ]
  },
  {
   "cell_type": "markdown",
   "metadata": {},
   "source": [
    "## Date to Numeric Column"
   ]
  },
  {
   "cell_type": "markdown",
   "metadata": {},
   "source": [
    "Previously we talked about that some of the date columns were in string format:\n",
    "* date_crawled: added by the crawler\n",
    "* last_seen: added by the crawler\n",
    "* ad_created: from the website\n",
    "\n",
    "By setting them such that they will contain only numeric character, we can set these columns to numerical columns."
   ]
  },
  {
   "cell_type": "code",
   "execution_count": 17,
   "metadata": {
    "collapsed": false
   },
   "outputs": [
    {
     "data": {
      "text/html": [
       "<div>\n",
       "<style scoped>\n",
       "    .dataframe tbody tr th:only-of-type {\n",
       "        vertical-align: middle;\n",
       "    }\n",
       "\n",
       "    .dataframe tbody tr th {\n",
       "        vertical-align: top;\n",
       "    }\n",
       "\n",
       "    .dataframe thead th {\n",
       "        text-align: right;\n",
       "    }\n",
       "</style>\n",
       "<table border=\"1\" class=\"dataframe\">\n",
       "  <thead>\n",
       "    <tr style=\"text-align: right;\">\n",
       "      <th></th>\n",
       "      <th>date_crawled</th>\n",
       "      <th>last_seen</th>\n",
       "      <th>ad_created</th>\n",
       "    </tr>\n",
       "  </thead>\n",
       "  <tbody>\n",
       "    <tr>\n",
       "      <th>0</th>\n",
       "      <td>20160326</td>\n",
       "      <td>20160406</td>\n",
       "      <td>20160326</td>\n",
       "    </tr>\n",
       "    <tr>\n",
       "      <th>1</th>\n",
       "      <td>20160404</td>\n",
       "      <td>20160406</td>\n",
       "      <td>20160404</td>\n",
       "    </tr>\n",
       "    <tr>\n",
       "      <th>2</th>\n",
       "      <td>20160326</td>\n",
       "      <td>20160406</td>\n",
       "      <td>20160326</td>\n",
       "    </tr>\n",
       "    <tr>\n",
       "      <th>3</th>\n",
       "      <td>20160312</td>\n",
       "      <td>20160315</td>\n",
       "      <td>20160312</td>\n",
       "    </tr>\n",
       "    <tr>\n",
       "      <th>4</th>\n",
       "      <td>20160401</td>\n",
       "      <td>20160401</td>\n",
       "      <td>20160401</td>\n",
       "    </tr>\n",
       "    <tr>\n",
       "      <th>5</th>\n",
       "      <td>20160321</td>\n",
       "      <td>20160406</td>\n",
       "      <td>20160321</td>\n",
       "    </tr>\n",
       "    <tr>\n",
       "      <th>6</th>\n",
       "      <td>20160320</td>\n",
       "      <td>20160323</td>\n",
       "      <td>20160320</td>\n",
       "    </tr>\n",
       "    <tr>\n",
       "      <th>7</th>\n",
       "      <td>20160316</td>\n",
       "      <td>20160407</td>\n",
       "      <td>20160316</td>\n",
       "    </tr>\n",
       "    <tr>\n",
       "      <th>8</th>\n",
       "      <td>20160322</td>\n",
       "      <td>20160326</td>\n",
       "      <td>20160322</td>\n",
       "    </tr>\n",
       "    <tr>\n",
       "      <th>9</th>\n",
       "      <td>20160316</td>\n",
       "      <td>20160406</td>\n",
       "      <td>20160316</td>\n",
       "    </tr>\n",
       "    <tr>\n",
       "      <th>10</th>\n",
       "      <td>20160315</td>\n",
       "      <td>20160407</td>\n",
       "      <td>20160314</td>\n",
       "    </tr>\n",
       "    <tr>\n",
       "      <th>11</th>\n",
       "      <td>20160316</td>\n",
       "      <td>20160316</td>\n",
       "      <td>20160316</td>\n",
       "    </tr>\n",
       "    <tr>\n",
       "      <th>12</th>\n",
       "      <td>20160331</td>\n",
       "      <td>20160406</td>\n",
       "      <td>20160331</td>\n",
       "    </tr>\n",
       "    <tr>\n",
       "      <th>13</th>\n",
       "      <td>20160323</td>\n",
       "      <td>20160401</td>\n",
       "      <td>20160323</td>\n",
       "    </tr>\n",
       "    <tr>\n",
       "      <th>14</th>\n",
       "      <td>20160323</td>\n",
       "      <td>20160401</td>\n",
       "      <td>20160323</td>\n",
       "    </tr>\n",
       "    <tr>\n",
       "      <th>15</th>\n",
       "      <td>20160401</td>\n",
       "      <td>20160402</td>\n",
       "      <td>20160401</td>\n",
       "    </tr>\n",
       "    <tr>\n",
       "      <th>16</th>\n",
       "      <td>20160316</td>\n",
       "      <td>20160318</td>\n",
       "      <td>20160316</td>\n",
       "    </tr>\n",
       "    <tr>\n",
       "      <th>17</th>\n",
       "      <td>20160329</td>\n",
       "      <td>20160405</td>\n",
       "      <td>20160329</td>\n",
       "    </tr>\n",
       "    <tr>\n",
       "      <th>18</th>\n",
       "      <td>20160326</td>\n",
       "      <td>20160402</td>\n",
       "      <td>20160326</td>\n",
       "    </tr>\n",
       "    <tr>\n",
       "      <th>19</th>\n",
       "      <td>20160317</td>\n",
       "      <td>20160317</td>\n",
       "      <td>20160317</td>\n",
       "    </tr>\n",
       "    <tr>\n",
       "      <th>20</th>\n",
       "      <td>20160305</td>\n",
       "      <td>20160307</td>\n",
       "      <td>20160305</td>\n",
       "    </tr>\n",
       "    <tr>\n",
       "      <th>21</th>\n",
       "      <td>20160306</td>\n",
       "      <td>20160405</td>\n",
       "      <td>20160306</td>\n",
       "    </tr>\n",
       "    <tr>\n",
       "      <th>22</th>\n",
       "      <td>20160328</td>\n",
       "      <td>20160401</td>\n",
       "      <td>20160328</td>\n",
       "    </tr>\n",
       "    <tr>\n",
       "      <th>23</th>\n",
       "      <td>20160310</td>\n",
       "      <td>20160317</td>\n",
       "      <td>20160310</td>\n",
       "    </tr>\n",
       "    <tr>\n",
       "      <th>24</th>\n",
       "      <td>20160403</td>\n",
       "      <td>20160407</td>\n",
       "      <td>20160403</td>\n",
       "    </tr>\n",
       "    <tr>\n",
       "      <th>25</th>\n",
       "      <td>20160321</td>\n",
       "      <td>20160401</td>\n",
       "      <td>20160321</td>\n",
       "    </tr>\n",
       "    <tr>\n",
       "      <th>26</th>\n",
       "      <td>20160403</td>\n",
       "      <td>20160405</td>\n",
       "      <td>20160403</td>\n",
       "    </tr>\n",
       "    <tr>\n",
       "      <th>28</th>\n",
       "      <td>20160319</td>\n",
       "      <td>20160407</td>\n",
       "      <td>20160319</td>\n",
       "    </tr>\n",
       "    <tr>\n",
       "      <th>29</th>\n",
       "      <td>20160402</td>\n",
       "      <td>20160402</td>\n",
       "      <td>20160402</td>\n",
       "    </tr>\n",
       "    <tr>\n",
       "      <th>30</th>\n",
       "      <td>20160314</td>\n",
       "      <td>20160314</td>\n",
       "      <td>20160314</td>\n",
       "    </tr>\n",
       "    <tr>\n",
       "      <th>...</th>\n",
       "      <td>...</td>\n",
       "      <td>...</td>\n",
       "      <td>...</td>\n",
       "    </tr>\n",
       "    <tr>\n",
       "      <th>49968</th>\n",
       "      <td>20160401</td>\n",
       "      <td>20160405</td>\n",
       "      <td>20160401</td>\n",
       "    </tr>\n",
       "    <tr>\n",
       "      <th>49969</th>\n",
       "      <td>20160317</td>\n",
       "      <td>20160325</td>\n",
       "      <td>20160317</td>\n",
       "    </tr>\n",
       "    <tr>\n",
       "      <th>49970</th>\n",
       "      <td>20160321</td>\n",
       "      <td>20160407</td>\n",
       "      <td>20160321</td>\n",
       "    </tr>\n",
       "    <tr>\n",
       "      <th>49971</th>\n",
       "      <td>20160329</td>\n",
       "      <td>20160329</td>\n",
       "      <td>20160329</td>\n",
       "    </tr>\n",
       "    <tr>\n",
       "      <th>49972</th>\n",
       "      <td>20160326</td>\n",
       "      <td>20160328</td>\n",
       "      <td>20160326</td>\n",
       "    </tr>\n",
       "    <tr>\n",
       "      <th>49973</th>\n",
       "      <td>20160327</td>\n",
       "      <td>20160327</td>\n",
       "      <td>20160327</td>\n",
       "    </tr>\n",
       "    <tr>\n",
       "      <th>49975</th>\n",
       "      <td>20160327</td>\n",
       "      <td>20160405</td>\n",
       "      <td>20160327</td>\n",
       "    </tr>\n",
       "    <tr>\n",
       "      <th>49976</th>\n",
       "      <td>20160319</td>\n",
       "      <td>20160407</td>\n",
       "      <td>20160319</td>\n",
       "    </tr>\n",
       "    <tr>\n",
       "      <th>49977</th>\n",
       "      <td>20160331</td>\n",
       "      <td>20160406</td>\n",
       "      <td>20160331</td>\n",
       "    </tr>\n",
       "    <tr>\n",
       "      <th>49978</th>\n",
       "      <td>20160404</td>\n",
       "      <td>20160406</td>\n",
       "      <td>20160404</td>\n",
       "    </tr>\n",
       "    <tr>\n",
       "      <th>49979</th>\n",
       "      <td>20160320</td>\n",
       "      <td>20160407</td>\n",
       "      <td>20160320</td>\n",
       "    </tr>\n",
       "    <tr>\n",
       "      <th>49980</th>\n",
       "      <td>20160312</td>\n",
       "      <td>20160406</td>\n",
       "      <td>20160312</td>\n",
       "    </tr>\n",
       "    <tr>\n",
       "      <th>49981</th>\n",
       "      <td>20160315</td>\n",
       "      <td>20160405</td>\n",
       "      <td>20160315</td>\n",
       "    </tr>\n",
       "    <tr>\n",
       "      <th>49982</th>\n",
       "      <td>20160329</td>\n",
       "      <td>20160329</td>\n",
       "      <td>20160329</td>\n",
       "    </tr>\n",
       "    <tr>\n",
       "      <th>49983</th>\n",
       "      <td>20160306</td>\n",
       "      <td>20160309</td>\n",
       "      <td>20160306</td>\n",
       "    </tr>\n",
       "    <tr>\n",
       "      <th>49985</th>\n",
       "      <td>20160402</td>\n",
       "      <td>20160406</td>\n",
       "      <td>20160402</td>\n",
       "    </tr>\n",
       "    <tr>\n",
       "      <th>49986</th>\n",
       "      <td>20160404</td>\n",
       "      <td>20160406</td>\n",
       "      <td>20160404</td>\n",
       "    </tr>\n",
       "    <tr>\n",
       "      <th>49987</th>\n",
       "      <td>20160322</td>\n",
       "      <td>20160326</td>\n",
       "      <td>20160322</td>\n",
       "    </tr>\n",
       "    <tr>\n",
       "      <th>49988</th>\n",
       "      <td>20160328</td>\n",
       "      <td>20160407</td>\n",
       "      <td>20160328</td>\n",
       "    </tr>\n",
       "    <tr>\n",
       "      <th>49989</th>\n",
       "      <td>20160311</td>\n",
       "      <td>20160312</td>\n",
       "      <td>20160311</td>\n",
       "    </tr>\n",
       "    <tr>\n",
       "      <th>49990</th>\n",
       "      <td>20160321</td>\n",
       "      <td>20160406</td>\n",
       "      <td>20160321</td>\n",
       "    </tr>\n",
       "    <tr>\n",
       "      <th>49991</th>\n",
       "      <td>20160306</td>\n",
       "      <td>20160306</td>\n",
       "      <td>20160306</td>\n",
       "    </tr>\n",
       "    <tr>\n",
       "      <th>49992</th>\n",
       "      <td>20160310</td>\n",
       "      <td>20160313</td>\n",
       "      <td>20160310</td>\n",
       "    </tr>\n",
       "    <tr>\n",
       "      <th>49993</th>\n",
       "      <td>20160315</td>\n",
       "      <td>20160406</td>\n",
       "      <td>20160315</td>\n",
       "    </tr>\n",
       "    <tr>\n",
       "      <th>49994</th>\n",
       "      <td>20160322</td>\n",
       "      <td>20160406</td>\n",
       "      <td>20160322</td>\n",
       "    </tr>\n",
       "    <tr>\n",
       "      <th>49995</th>\n",
       "      <td>20160327</td>\n",
       "      <td>20160401</td>\n",
       "      <td>20160327</td>\n",
       "    </tr>\n",
       "    <tr>\n",
       "      <th>49996</th>\n",
       "      <td>20160328</td>\n",
       "      <td>20160402</td>\n",
       "      <td>20160328</td>\n",
       "    </tr>\n",
       "    <tr>\n",
       "      <th>49997</th>\n",
       "      <td>20160402</td>\n",
       "      <td>20160404</td>\n",
       "      <td>20160402</td>\n",
       "    </tr>\n",
       "    <tr>\n",
       "      <th>49998</th>\n",
       "      <td>20160308</td>\n",
       "      <td>20160405</td>\n",
       "      <td>20160308</td>\n",
       "    </tr>\n",
       "    <tr>\n",
       "      <th>49999</th>\n",
       "      <td>20160314</td>\n",
       "      <td>20160406</td>\n",
       "      <td>20160313</td>\n",
       "    </tr>\n",
       "  </tbody>\n",
       "</table>\n",
       "<p>48550 rows × 3 columns</p>\n",
       "</div>"
      ],
      "text/plain": [
       "       date_crawled  last_seen  ad_created\n",
       "0          20160326   20160406    20160326\n",
       "1          20160404   20160406    20160404\n",
       "2          20160326   20160406    20160326\n",
       "3          20160312   20160315    20160312\n",
       "4          20160401   20160401    20160401\n",
       "5          20160321   20160406    20160321\n",
       "6          20160320   20160323    20160320\n",
       "7          20160316   20160407    20160316\n",
       "8          20160322   20160326    20160322\n",
       "9          20160316   20160406    20160316\n",
       "10         20160315   20160407    20160314\n",
       "11         20160316   20160316    20160316\n",
       "12         20160331   20160406    20160331\n",
       "13         20160323   20160401    20160323\n",
       "14         20160323   20160401    20160323\n",
       "15         20160401   20160402    20160401\n",
       "16         20160316   20160318    20160316\n",
       "17         20160329   20160405    20160329\n",
       "18         20160326   20160402    20160326\n",
       "19         20160317   20160317    20160317\n",
       "20         20160305   20160307    20160305\n",
       "21         20160306   20160405    20160306\n",
       "22         20160328   20160401    20160328\n",
       "23         20160310   20160317    20160310\n",
       "24         20160403   20160407    20160403\n",
       "25         20160321   20160401    20160321\n",
       "26         20160403   20160405    20160403\n",
       "28         20160319   20160407    20160319\n",
       "29         20160402   20160402    20160402\n",
       "30         20160314   20160314    20160314\n",
       "...             ...        ...         ...\n",
       "49968      20160401   20160405    20160401\n",
       "49969      20160317   20160325    20160317\n",
       "49970      20160321   20160407    20160321\n",
       "49971      20160329   20160329    20160329\n",
       "49972      20160326   20160328    20160326\n",
       "49973      20160327   20160327    20160327\n",
       "49975      20160327   20160405    20160327\n",
       "49976      20160319   20160407    20160319\n",
       "49977      20160331   20160406    20160331\n",
       "49978      20160404   20160406    20160404\n",
       "49979      20160320   20160407    20160320\n",
       "49980      20160312   20160406    20160312\n",
       "49981      20160315   20160405    20160315\n",
       "49982      20160329   20160329    20160329\n",
       "49983      20160306   20160309    20160306\n",
       "49985      20160402   20160406    20160402\n",
       "49986      20160404   20160406    20160404\n",
       "49987      20160322   20160326    20160322\n",
       "49988      20160328   20160407    20160328\n",
       "49989      20160311   20160312    20160311\n",
       "49990      20160321   20160406    20160321\n",
       "49991      20160306   20160306    20160306\n",
       "49992      20160310   20160313    20160310\n",
       "49993      20160315   20160406    20160315\n",
       "49994      20160322   20160406    20160322\n",
       "49995      20160327   20160401    20160327\n",
       "49996      20160328   20160402    20160328\n",
       "49997      20160402   20160404    20160402\n",
       "49998      20160308   20160405    20160308\n",
       "49999      20160314   20160406    20160313\n",
       "\n",
       "[48550 rows x 3 columns]"
      ]
     },
     "execution_count": 17,
     "metadata": {},
     "output_type": "execute_result"
    }
   ],
   "source": [
    "autos[\"date_crawled\"] = autos[\"date_crawled\"].str[:10].str.replace(\"-\",\"\").astype(int)\n",
    "autos[\"last_seen\"] = autos[\"last_seen\"].str[:10].str.replace(\"-\",\"\").astype(int)\n",
    "autos[\"ad_created\"] = autos[\"ad_created\"].str[:10].str.replace(\"-\",\"\").astype(int)\n",
    "autos[[\"date_crawled\",\"last_seen\",\"ad_created\"]]"
   ]
  },
  {
   "cell_type": "markdown",
   "metadata": {},
   "source": [
    "## Name Column Analysis"
   ]
  },
  {
   "cell_type": "markdown",
   "metadata": {},
   "source": [
    "In some cases, name columns may contain valuable information for us. For that reason, it would be beneficial if we have a look on the data that we have. In a case of additional information, we can use it and add an additional column to our data."
   ]
  },
  {
   "cell_type": "code",
   "execution_count": 19,
   "metadata": {
    "collapsed": false
   },
   "outputs": [
    {
     "data": {
      "text/plain": [
       "0                         Peugeot_807_160_NAVTECH_ON_BOARD\n",
       "1               BMW_740i_4_4_Liter_HAMANN_UMBAU_Mega_Optik\n",
       "2                               Volkswagen_Golf_1.6_United\n",
       "3        Smart_smart_fortwo_coupe_softouch/F1/Klima/Pan...\n",
       "4        Ford_Focus_1_6_Benzin_TÜV_neu_ist_sehr_gepfleg...\n",
       "5        Chrysler_Grand_Voyager_2.8_CRD_Aut.Limited_Sto...\n",
       "6        VW_Golf_III_GT_Special_Electronic_Green_Metall...\n",
       "7                                     Golf_IV_1.9_TDI_90PS\n",
       "8                                               Seat_Arosa\n",
       "9                Renault_Megane_Scenic_1.6e_RT_Klimaanlage\n",
       "10                            VW_Golf_Tuning_in_siber/grau\n",
       "11                              Mercedes_A140_Motorschaden\n",
       "12       Smart_smart_fortwo_coupe_softouch_pure_MHD_Pan...\n",
       "13                                      Audi_A3_1.6_tuning\n",
       "14       Renault_Clio_3__Dynamique_1.2__16_V;_viele_Ver...\n",
       "15             Corvette_C3_Coupe_T_Top_Crossfire_Injection\n",
       "16                                     Opel_Vectra_B_Kombi\n",
       "17                               Volkswagen_Scirocco_2_G60\n",
       "18                    Verkaufen_mein_bmw_e36_320_i_touring\n",
       "19             mazda_tribute_2.0_mit_gas_und_tuev_neu_2018\n",
       "20       Audi_A4_Avant_1.9_TDI_*6_Gang*AHK*Klimatronik*...\n",
       "21                           Porsche_911_Carrera_4S_Cabrio\n",
       "22                                    MINI_Cooper_S_Cabrio\n",
       "23        Peugeot_Boxer_2_2_HDi_120_Ps_9_Sitzer_inkl_Klima\n",
       "24                              BMW_535i_xDrive_Sport_Aut.\n",
       "25       Ford_escort_kombi_an_bastler_mit_ghia_ausstattung\n",
       "26                                     Volkswagen_Polo_Fox\n",
       "28                                           MINI_Cooper_D\n",
       "29       Mercedes_Benz_E_320_T_CDI_Avantgarde_DPF7_Sitz...\n",
       "30                              Peugeot_206_Unfallfahrzeug\n",
       "                               ...                        \n",
       "49968                    Mercedes_Benz_190_D_2.5_Automatik\n",
       "49969               Nissan_X_Trail_2.2_dCi_4x4_Sport_m.AHZ\n",
       "49970    c4_Grand_Picasso_mit_Automatik_Leder_Navi_Temp...\n",
       "49971                                           W.Lupo_1.0\n",
       "49972            Mercedes_Benz_Vito_115_CDI_Extralang_Aut.\n",
       "49973                     Mercedes_Benz_SLK_200_Kompressor\n",
       "49975            Honda_Jazz_1.3_DSi_i_VTEC_IMA_CVT_Comfort\n",
       "49976    Audi_80_Avant_2.6_E__Vollausstattung!!_Einziga...\n",
       "49977                          Mercedes_Benz_C200_Cdi_W203\n",
       "49978                          Mercedes_Benz_E_200_Classic\n",
       "49979                        Volkswagen_Polo_1.6_TDI_Style\n",
       "49980                              Ford_Escort_Turnier_16V\n",
       "49981               Opel_Astra_Kombi_mit_Anhaengerkupplung\n",
       "49982              Skoda_Fabia_4_Tuerer_Bj:2004__85.000Tkm\n",
       "49983                                        Ford_focus_99\n",
       "49985                            Verkaufe_meinen_vw_vento!\n",
       "49986    Chrysler_300C_3.0_CRD_DPF_Automatik_Voll_Ausst...\n",
       "49987    Audi_A3_Limousine_2.0_TDI_DPF_Ambition__NAVI__...\n",
       "49988                                           BMW_330_Ci\n",
       "49989          VW_Polo_zum_Ausschlachten_oder_Wiederaufbau\n",
       "49990           Mercedes_Benz_A_200__BlueEFFICIENCY__Urban\n",
       "49991                                           Kleinwagen\n",
       "49992                Fiat_Grande_Punto_1.4_T_Jet_16V_Sport\n",
       "49993             Audi_A3__1_8l__Silber;_schoenes_Fahrzeug\n",
       "49994    Audi_A6__S6__Avant_4.2_quattro_eventuell_Tausc...\n",
       "49995     Audi_Q5_3.0_TDI_qu._S_tr.__Navi__Panorama__Xenon\n",
       "49996    Opel_Astra_F_Cabrio_Bertone_Edition___TÜV_neu+...\n",
       "49997                       Fiat_500_C_1.2_Dualogic_Lounge\n",
       "49998                   Audi_A3_2.0_TDI_Sportback_Ambition\n",
       "49999                                  Opel_Vectra_1.6_16V\n",
       "Name: name, Length: 48550, dtype: object"
      ]
     },
     "execution_count": 19,
     "metadata": {},
     "output_type": "execute_result"
    }
   ],
   "source": [
    "autos[\"name\"] # it seems there is no logical structure in name as an info"
   ]
  }
 ],
 "metadata": {
  "kernelspec": {
   "display_name": "Python 3",
   "language": "python",
   "name": "python3"
  },
  "language_info": {
   "codemirror_mode": {
    "name": "ipython",
    "version": 3
   },
   "file_extension": ".py",
   "mimetype": "text/x-python",
   "name": "python",
   "nbconvert_exporter": "python",
   "pygments_lexer": "ipython3",
   "version": "3.4.3"
  }
 },
 "nbformat": 4,
 "nbformat_minor": 2
}
