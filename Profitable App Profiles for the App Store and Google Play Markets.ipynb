{
 "cells": [
  {
   "cell_type": "markdown",
   "metadata": {
    "collapsed": true
   },
   "source": [
    "# Profitable App Profiles for the App Store and Google Play Markets "
   ]
  },
  {
   "cell_type": "markdown",
   "metadata": {},
   "source": [
    "This project is about...\n",
    "\n",
    "By implementing these steps we will be analysing..."
   ]
  },
  {
   "cell_type": "code",
   "execution_count": 16,
   "metadata": {
    "collapsed": true
   },
   "outputs": [],
   "source": [
    "def data_open(data_set):\n",
    "    open_data = open(data_set)\n",
    "    from csv import reader\n",
    "    read_data = reader(open_data)\n",
    "    data_list = list(read_data)\n",
    "    return data_list"
   ]
  },
  {
   "cell_type": "code",
   "execution_count": 17,
   "metadata": {
    "collapsed": false
   },
   "outputs": [],
   "source": [
    "apple = data_open(\"AppleStore.csv\")\n",
    "google = data_open(\"googleplaystore.csv\")"
   ]
  },
  {
   "cell_type": "code",
   "execution_count": 18,
   "metadata": {
    "collapsed": true
   },
   "outputs": [],
   "source": [
    "def explore_data(dataset, start, end, rows_and_columns=False):\n",
    "    dataset_slice = dataset[start:end]    \n",
    "    for row in dataset_slice:\n",
    "        print(row)\n",
    "        print('\\n') # adds a new (empty) line after each row\n",
    "\n",
    "    if rows_and_columns:\n",
    "        print('Number of rows:', len(dataset))\n",
    "        print('Number of columns:', len(dataset[0]))"
   ]
  },
  {
   "cell_type": "code",
   "execution_count": 19,
   "metadata": {
    "collapsed": false,
    "scrolled": true
   },
   "outputs": [
    {
     "name": "stdout",
     "output_type": "stream",
     "text": [
      "['id', 'track_name', 'size_bytes', 'currency', 'price', 'rating_count_tot', 'rating_count_ver', 'user_rating', 'user_rating_ver', 'ver', 'cont_rating', 'prime_genre', 'sup_devices.num', 'ipadSc_urls.num', 'lang.num', 'vpp_lic']\n",
      "\n",
      "\n",
      "['284882215', 'Facebook', '389879808', 'USD', '0.0', '2974676', '212', '3.5', '3.5', '95.0', '4+', 'Social Networking', '37', '1', '29', '1']\n",
      "\n",
      "\n",
      "['389801252', 'Instagram', '113954816', 'USD', '0.0', '2161558', '1289', '4.5', '4.0', '10.23', '12+', 'Photo & Video', '37', '0', '29', '1']\n",
      "\n",
      "\n",
      "Number of rows: 7198\n",
      "Number of columns: 16\n"
     ]
    }
   ],
   "source": [
    "explore_data(apple,0,3,True) # Apple Store Data Columns"
   ]
  },
  {
   "cell_type": "markdown",
   "metadata": {},
   "source": [
    "For Further information related to apple data: [Link](https://www.kaggle.com/ramamet4/app-store-apple-data-set-10k-apps)"
   ]
  },
  {
   "cell_type": "code",
   "execution_count": 31,
   "metadata": {
    "collapsed": false
   },
   "outputs": [
    {
     "name": "stdout",
     "output_type": "stream",
     "text": [
      "['App', 'Category', 'Rating', 'Reviews', 'Size', 'Installs', 'Type', 'Price', 'Content Rating', 'Genres', 'Last Updated', 'Current Ver', 'Android Ver']\n",
      "\n",
      "\n",
      "['Photo Editor & Candy Camera & Grid & ScrapBook', 'ART_AND_DESIGN', '4.1', '159', '19M', '10,000+', 'Free', '0', 'Everyone', 'Art & Design', 'January 7, 2018', '1.0.0', '4.0.3 and up']\n",
      "\n",
      "\n",
      "['Coloring book moana', 'ART_AND_DESIGN', '3.9', '967', '14M', '500,000+', 'Free', '0', 'Everyone', 'Art & Design;Pretend Play', 'January 15, 2018', '2.0.0', '4.0.3 and up']\n",
      "\n",
      "\n",
      "Number of rows: 10841\n",
      "Number of columns: 13\n"
     ]
    }
   ],
   "source": [
    "explore_data(google,0,3,True) # Google Store Data Columns"
   ]
  },
  {
   "cell_type": "markdown",
   "metadata": {},
   "source": [
    "# Google Store Data Column Details"
   ]
  },
  {
   "cell_type": "markdown",
   "metadata": {},
   "source": [
    "|Column|Definition|\n",
    "|----------------------------------|-------------------------------------------|\n",
    "|App|Application name|\n",
    "|Category|Category the app belongs to|\n",
    "|Rating|Overall user rating of the app (as when scraped)|\n",
    "|Reviews|Number of user reviews for the app (as when scraped)|\n",
    "|Size|Size of the app (as when scraped)|\n",
    "|Installs|Number of user downloads/installs for the app (as when scraped)|\n",
    "|Type|Paid or Free|\n",
    "|Price|Price of the app (as when scraped)|\n",
    "|Content| RatingAge group the app is targeted at - Children / Mature 21+ / Adult|\n",
    "|Genres|An app can belong to multiple genres (apart from its main category). For eg, a musical family game will belong to Music, Game, Family genres.|\n",
    "|Last Updated|Date when the app was last updated on Play Store (as when scraped)|\n",
    "|Current Ver|Current version of the app available on Play Store (as when scraped)|\n",
    "|Android Ver|Min required Android version (as when scraped)|\n",
    "\n",
    "For Further information related to data: [Link](https://www.kaggle.com/lava18/google-play-store-apps)"
   ]
  },
  {
   "cell_type": "markdown",
   "metadata": {},
   "source": [
    "# Apple Store Data Column Details"
   ]
  },
  {
   "cell_type": "markdown",
   "metadata": {},
   "source": [
    "|Column|\n",
    "|---------------|\n",
    "|id| \n",
    "|track_name|\n",
    "|size_bytes|\n",
    "|currency|\n",
    "|price|\n",
    "|rating_count_tot|\n",
    "|rating_count_ver|\n",
    "|user_rating|\n",
    "|user_rating_ver|\n",
    "|ver|\n",
    "|cont_rating|\n",
    "|prime_genre|\n",
    "|sup_devices.num|\n",
    "|ipadSc_urls.num|\n",
    "|lang.num|\n",
    "|vpp_lic|"
   ]
  },
  {
   "cell_type": "code",
   "execution_count": 21,
   "metadata": {
    "collapsed": false
   },
   "outputs": [
    {
     "name": "stdout",
     "output_type": "stream",
     "text": [
      "{'1.9': 1, 'COMMUNICATION': 387, 'PRODUCTIVITY': 424, 'LIBRARIES_AND_DEMO': 85, 'MEDICAL': 463, 'EDUCATION': 156, 'NEWS_AND_MAGAZINES': 283, 'BOOKS_AND_REFERENCE': 231, 'HEALTH_AND_FITNESS': 341, 'MAPS_AND_NAVIGATION': 137, 'COMICS': 60, 'ART_AND_DESIGN': 65, 'TRAVEL_AND_LOCAL': 258, 'AUTO_AND_VEHICLES': 85, 'GAME': 1144, 'BEAUTY': 53, 'WEATHER': 82, 'HOUSE_AND_HOME': 88, 'FINANCE': 366, 'SPORTS': 384, 'SOCIAL': 295, 'ENTERTAINMENT': 149, 'TOOLS': 843, 'DATING': 234, 'LIFESTYLE': 382, 'PERSONALIZATION': 392, 'FOOD_AND_DRINK': 127, 'BUSINESS': 460, 'VIDEO_PLAYERS': 175, 'SHOPPING': 260, 'PARENTING': 60, 'EVENTS': 64, 'PHOTOGRAPHY': 335, 'FAMILY': 1972}\n",
      "index is: 10473\n"
     ]
    }
   ],
   "source": [
    "\n",
    "dicter = {}\n",
    "for row in google[1:]:\n",
    "    if row[1] not in dicter:\n",
    "        dicter[row[1]] = 1\n",
    "    elif row[1] in dicter:\n",
    "        dicter[row[1]] += 1\n",
    "print(dicter)\n",
    "for i in range(len(google[1:])):\n",
    "    if google[i][1] == '1.9':\n",
    "        print('index is: ' + str(i))\n",
    "        del google[i]"
   ]
  },
  {
   "cell_type": "markdown",
   "metadata": {},
   "source": [
    "In the above code, we have deleted a row containg category as 1.9."
   ]
  },
  {
   "cell_type": "code",
   "execution_count": 22,
   "metadata": {
    "collapsed": false,
    "scrolled": true
   },
   "outputs": [
    {
     "name": "stdout",
     "output_type": "stream",
     "text": [
      "Number of duplicate apps: 1181\n",
      "\n",
      "\n",
      "Examples of duplicate apps: ['Quick PDF Scanner + OCR FREE', 'Box', 'Google My Business', 'ZOOM Cloud Meetings', 'join.me - Simple Meetings', 'Box', 'Zenefits', 'Google Ads', 'Google My Business', 'Slack', 'FreshBooks Classic', 'Insightly CRM', 'QuickBooks Accounting: Invoicing & Expenses', 'HipChat - Chat Built for Teams', 'Xero Accounting Software']\n",
      "9659\n"
     ]
    }
   ],
   "source": [
    "duplicate_apps = []\n",
    "unique_apps = []\n",
    "\n",
    "for app in google[1:]:\n",
    "    name = app[0]\n",
    "    if name in unique_apps:\n",
    "        duplicate_apps.append(name)\n",
    "    else:\n",
    "        unique_apps.append(name)\n",
    "        \n",
    "print('Number of duplicate apps:',len(duplicate_apps))\n",
    "print('\\n')\n",
    "print('Examples of duplicate apps:', duplicate_apps[:15])\n",
    "print(len(google[1:])-1181)"
   ]
  },
  {
   "cell_type": "markdown",
   "metadata": {},
   "source": [
    "In the above code, we have shown the duplicated applications with total their total quantity and names. But since we are going to delete only the ones that do not have the maximum review for that application."
   ]
  },
  {
   "cell_type": "code",
   "execution_count": 23,
   "metadata": {
    "collapsed": false
   },
   "outputs": [
    {
     "name": "stdout",
     "output_type": "stream",
     "text": [
      "9659\n"
     ]
    }
   ],
   "source": [
    "reviews_max = {}\n",
    "for row in google[1:]:\n",
    "    name = row[0]\n",
    "    n_reviews = float(row[3])\n",
    "    if name in reviews_max and  reviews_max[name] < n_reviews:\n",
    "        reviews_max[name] = n_reviews\n",
    "    elif name not in reviews_max:\n",
    "        reviews_max[name] = n_reviews\n",
    "print(len(reviews_max))"
   ]
  },
  {
   "cell_type": "markdown",
   "metadata": {},
   "source": [
    "In the above code, we have collected the maximum review number for each distinct app in our google store data"
   ]
  },
  {
   "cell_type": "markdown",
   "metadata": {},
   "source": [
    "# Clearing Android Data"
   ]
  },
  {
   "cell_type": "code",
   "execution_count": 24,
   "metadata": {
    "collapsed": false
   },
   "outputs": [
    {
     "name": "stdout",
     "output_type": "stream",
     "text": [
      "9659\n"
     ]
    }
   ],
   "source": [
    "android_clean = [] #cleaned data set\n",
    "already_added = [] #store app names\n",
    "for row in google[1:]:\n",
    "    name = row[0]\n",
    "    n_reviews = float(row[3])\n",
    "    if n_reviews == reviews_max[name] and name not in already_added:\n",
    "        android_clean.append(row) # We add the most recent row to that list\n",
    "        already_added.append(name) # We add the app name to that list so that we do not overadd it again\n",
    "\n",
    "print(len(android_clean))"
   ]
  },
  {
   "cell_type": "markdown",
   "metadata": {},
   "source": [
    "# Function for English Character Check"
   ]
  },
  {
   "cell_type": "code",
   "execution_count": 25,
   "metadata": {
    "collapsed": false
   },
   "outputs": [
    {
     "name": "stdout",
     "output_type": "stream",
     "text": [
      "True\n",
      "False\n",
      "True\n",
      "True\n"
     ]
    }
   ],
   "source": [
    "def is_english(string):# A function to check if string consists of completely english chars.\n",
    "    noneng_count = 0\n",
    "    for character in string:\n",
    "        if ord(character) > 127:\n",
    "            noneng_count += 1\n",
    "    if noneng_count > 3:# To be sure about being non-english, min 3 chars must be non-eng\n",
    "        return False\n",
    "    else:\n",
    "        return True\n",
    "\n",
    "print(is_english('Instagram'))\n",
    "print(is_english('爱奇艺PPS -《欢乐颂2》电视剧热播'))\n",
    "print(is_english('Docs To Go™ Free Office Suite'))\n",
    "print(is_english('Instachat 😜'))"
   ]
  },
  {
   "cell_type": "code",
   "execution_count": 29,
   "metadata": {
    "collapsed": false
   },
   "outputs": [
    {
     "name": "stdout",
     "output_type": "stream",
     "text": [
      "Android then: 9659  Android now: 9614\n",
      "Apple then: 7197  Apple now: 6183\n"
     ]
    }
   ],
   "source": [
    "android_eng = []\n",
    "apple_eng = []\n",
    "\n",
    "for row in android_clean:\n",
    "    name = row[0]\n",
    "    if is_english(name):\n",
    "        android_eng.append(row)\n",
    "for row in apple[1:]:\n",
    "    name = row[1]\n",
    "    if is_english(name):\n",
    "        apple_eng.append(row)\n",
    "        \n",
    "print('Android then:',len(android_clean),' Android now:',len(android_eng))\n",
    "print('Apple then:',len(apple[1:]),' Apple now:',len(apple_eng))"
   ]
  },
  {
   "cell_type": "code",
   "execution_count": 39,
   "metadata": {
    "collapsed": false
   },
   "outputs": [
    {
     "name": "stdout",
     "output_type": "stream",
     "text": [
      "Android then: 9614  Android now: 8864\n",
      "Apple then: 6183  Apple now: 3222\n"
     ]
    }
   ],
   "source": [
    "android_free = []\n",
    "apple_free = []\n",
    "\n",
    "for row in android_eng:\n",
    "    price = float(row[7].replace('$',''))#for getting rid of $ signs\n",
    "    if price == 0.0:\n",
    "        android_free.append(row)\n",
    "for row in apple_eng:\n",
    "    price = float(row[4].replace('$',''))#for getting rid of $ signs\n",
    "    if price == 0.0:\n",
    "        apple_free.append(row)\n",
    "print('Android then:',len(android_eng),' Android now:',len(android_free))\n",
    "print('Apple then:',len(apple_eng),' Apple now:',len(apple_free))        \n",
    "        "
   ]
  },
  {
   "cell_type": "markdown",
   "metadata": {
    "collapsed": true
   },
   "source": [
    "After cleaning our data, we can move on to our validation strategy considering other columns of both apple and android data.\n",
    "For android data, we can check following columns and make frequency tables with consideration of review numbers:\n",
    "* Category (index:1)\n",
    "* Rating (index:2)\n",
    "* Size (index:4)\n",
    "* Installs (index:5)\n",
    "* Content (index:8)\t \n",
    "* Genres (index:9)\n",
    "\n",
    "For apple data, we can check following columns and make frequency tables:\n",
    "\n",
    "* size_bytes (index:2)\n",
    "* rating_count_tot (index:5)\n",
    "* user_rating (index:7)\n",
    "* ver (index:9)\n",
    "* cont_rating (index:10)\n",
    "* prime_genre (index:11)\n",
    "\n"
   ]
  },
  {
   "cell_type": "code",
   "execution_count": 40,
   "metadata": {
    "collapsed": true
   },
   "outputs": [],
   "source": [
    "def freq_table(dataset,index):\n",
    "    frequency_rows = {}\n",
    "    total = 0\n",
    "    for row in dataset:\n",
    "        value = row[index]\n",
    "        if value in frequency_rows:\n",
    "            frequency_rows[value] +=1\n",
    "        else:\n",
    "            frequency_rows[value] = 1\n",
    "    for key in frequency_rows:\n",
    "        total += frequency_rows[key]\n",
    "    for key in frequency_rows:\n",
    "        frequency_rows[key] = frequency_rows[key] / total * 100\n",
    "    return frequency_rows\n",
    "        "
   ]
  },
  {
   "cell_type": "code",
   "execution_count": 42,
   "metadata": {
    "collapsed": false
   },
   "outputs": [
    {
     "name": "stdout",
     "output_type": "stream",
     "text": [
      "FAMILY : 18.907942238267147\n",
      "GAME : 9.724729241877256\n",
      "TOOLS : 8.461191335740072\n",
      "BUSINESS : 4.591606498194946\n",
      "LIFESTYLE : 3.9034296028880866\n",
      "PRODUCTIVITY : 3.892148014440433\n",
      "FINANCE : 3.7003610108303246\n",
      "MEDICAL : 3.531137184115524\n",
      "SPORTS : 3.395758122743682\n",
      "PERSONALIZATION : 3.3167870036101084\n",
      "COMMUNICATION : 3.2378158844765346\n",
      "HEALTH_AND_FITNESS : 3.0798736462093865\n",
      "PHOTOGRAPHY : 2.944494584837545\n",
      "NEWS_AND_MAGAZINES : 2.7978339350180503\n",
      "SOCIAL : 2.6624548736462095\n",
      "TRAVEL_AND_LOCAL : 2.33528880866426\n",
      "SHOPPING : 2.2450361010830324\n",
      "BOOKS_AND_REFERENCE : 2.1435018050541514\n",
      "DATING : 1.861462093862816\n",
      "VIDEO_PLAYERS : 1.7937725631768955\n",
      "MAPS_AND_NAVIGATION : 1.3989169675090252\n",
      "FOOD_AND_DRINK : 1.2409747292418771\n",
      "EDUCATION : 1.1620036101083033\n",
      "ENTERTAINMENT : 0.9589350180505415\n",
      "LIBRARIES_AND_DEMO : 0.9363718411552346\n",
      "AUTO_AND_VEHICLES : 0.9250902527075812\n",
      "HOUSE_AND_HOME : 0.8235559566787004\n",
      "WEATHER : 0.8009927797833934\n",
      "EVENTS : 0.7107400722021661\n",
      "PARENTING : 0.6543321299638989\n",
      "ART_AND_DESIGN : 0.6430505415162455\n",
      "COMICS : 0.6204873646209386\n",
      "BEAUTY : 0.5979241877256317\n",
      "------------\n",
      "Tools : 8.449909747292418\n",
      "Entertainment : 6.069494584837545\n",
      "Education : 5.347472924187725\n",
      "Business : 4.591606498194946\n",
      "Productivity : 3.892148014440433\n",
      "Lifestyle : 3.892148014440433\n",
      "Finance : 3.7003610108303246\n",
      "Medical : 3.531137184115524\n",
      "Sports : 3.463447653429603\n",
      "Personalization : 3.3167870036101084\n",
      "Communication : 3.2378158844765346\n",
      "Action : 3.1024368231046933\n",
      "Health & Fitness : 3.0798736462093865\n",
      "Photography : 2.944494584837545\n",
      "News & Magazines : 2.7978339350180503\n",
      "Social : 2.6624548736462095\n",
      "Travel & Local : 2.3240072202166067\n",
      "Shopping : 2.2450361010830324\n",
      "Books & Reference : 2.1435018050541514\n",
      "Simulation : 2.0419675090252705\n",
      "Dating : 1.861462093862816\n",
      "Arcade : 1.8501805054151623\n",
      "Video Players & Editors : 1.7712093862815883\n",
      "Casual : 1.7599277978339352\n",
      "Maps & Navigation : 1.3989169675090252\n",
      "Food & Drink : 1.2409747292418771\n",
      "Puzzle : 1.128158844765343\n",
      "Racing : 0.9927797833935018\n",
      "Role Playing : 0.9363718411552346\n",
      "Libraries & Demo : 0.9363718411552346\n",
      "Auto & Vehicles : 0.9250902527075812\n",
      "Strategy : 0.9138086642599278\n",
      "House & Home : 0.8235559566787004\n",
      "Weather : 0.8009927797833934\n",
      "Events : 0.7107400722021661\n",
      "Adventure : 0.6768953068592057\n",
      "Comics : 0.6092057761732852\n",
      "Beauty : 0.5979241877256317\n",
      "Art & Design : 0.5979241877256317\n",
      "Parenting : 0.4963898916967509\n",
      "Card : 0.45126353790613716\n",
      "Casino : 0.42870036101083037\n",
      "Trivia : 0.41741877256317694\n",
      "Educational;Education : 0.39485559566787\n",
      "Board : 0.3835740072202166\n",
      "Educational : 0.3722924187725632\n",
      "Education;Education : 0.33844765342960287\n",
      "Word : 0.2594765342960289\n",
      "Casual;Pretend Play : 0.236913357400722\n",
      "Music : 0.2030685920577617\n",
      "Racing;Action & Adventure : 0.16922382671480143\n",
      "Puzzle;Brain Games : 0.16922382671480143\n",
      "Entertainment;Music & Video : 0.16922382671480143\n",
      "Casual;Brain Games : 0.13537906137184114\n",
      "Casual;Action & Adventure : 0.13537906137184114\n",
      "Arcade;Action & Adventure : 0.12409747292418773\n",
      "Action;Action & Adventure : 0.10153429602888085\n",
      "Educational;Pretend Play : 0.09025270758122744\n",
      "Simulation;Action & Adventure : 0.078971119133574\n",
      "Parenting;Education : 0.078971119133574\n",
      "Entertainment;Brain Games : 0.078971119133574\n",
      "Board;Brain Games : 0.078971119133574\n",
      "Parenting;Music & Video : 0.06768953068592057\n",
      "Educational;Brain Games : 0.06768953068592057\n",
      "Casual;Creativity : 0.06768953068592057\n",
      "Art & Design;Creativity : 0.06768953068592057\n",
      "Education;Pretend Play : 0.056407942238267145\n",
      "Role Playing;Pretend Play : 0.04512635379061372\n",
      "Education;Creativity : 0.04512635379061372\n",
      "Role Playing;Action & Adventure : 0.033844765342960284\n",
      "Puzzle;Action & Adventure : 0.033844765342960284\n",
      "Entertainment;Creativity : 0.033844765342960284\n",
      "Entertainment;Action & Adventure : 0.033844765342960284\n",
      "Educational;Creativity : 0.033844765342960284\n",
      "Educational;Action & Adventure : 0.033844765342960284\n",
      "Education;Music & Video : 0.033844765342960284\n",
      "Education;Brain Games : 0.033844765342960284\n",
      "Education;Action & Adventure : 0.033844765342960284\n",
      "Adventure;Action & Adventure : 0.033844765342960284\n",
      "Video Players & Editors;Music & Video : 0.02256317689530686\n",
      "Sports;Action & Adventure : 0.02256317689530686\n",
      "Simulation;Pretend Play : 0.02256317689530686\n",
      "Puzzle;Creativity : 0.02256317689530686\n",
      "Music;Music & Video : 0.02256317689530686\n",
      "Entertainment;Pretend Play : 0.02256317689530686\n",
      "Casual;Education : 0.02256317689530686\n",
      "Board;Action & Adventure : 0.02256317689530686\n",
      "Video Players & Editors;Creativity : 0.01128158844765343\n",
      "Trivia;Education : 0.01128158844765343\n",
      "Travel & Local;Action & Adventure : 0.01128158844765343\n",
      "Tools;Education : 0.01128158844765343\n",
      "Strategy;Education : 0.01128158844765343\n",
      "Strategy;Creativity : 0.01128158844765343\n",
      "Strategy;Action & Adventure : 0.01128158844765343\n",
      "Simulation;Education : 0.01128158844765343\n",
      "Role Playing;Brain Games : 0.01128158844765343\n",
      "Racing;Pretend Play : 0.01128158844765343\n",
      "Puzzle;Education : 0.01128158844765343\n",
      "Parenting;Brain Games : 0.01128158844765343\n",
      "Music & Audio;Music & Video : 0.01128158844765343\n",
      "Lifestyle;Pretend Play : 0.01128158844765343\n",
      "Lifestyle;Education : 0.01128158844765343\n",
      "Health & Fitness;Education : 0.01128158844765343\n",
      "Health & Fitness;Action & Adventure : 0.01128158844765343\n",
      "Entertainment;Education : 0.01128158844765343\n",
      "Communication;Creativity : 0.01128158844765343\n",
      "Comics;Creativity : 0.01128158844765343\n",
      "Casual;Music & Video : 0.01128158844765343\n",
      "Card;Action & Adventure : 0.01128158844765343\n",
      "Books & Reference;Education : 0.01128158844765343\n",
      "Art & Design;Pretend Play : 0.01128158844765343\n",
      "Art & Design;Action & Adventure : 0.01128158844765343\n",
      "Arcade;Pretend Play : 0.01128158844765343\n",
      "Adventure;Education : 0.01128158844765343\n",
      "------------\n",
      "Games : 58.16263190564867\n",
      "Entertainment : 7.883302296710118\n",
      "Photo & Video : 4.9658597144630665\n",
      "Education : 3.662321539416512\n",
      "Social Networking : 3.2898820608317814\n",
      "Shopping : 2.60707635009311\n",
      "Utilities : 2.5139664804469275\n",
      "Sports : 2.1415270018621975\n",
      "Music : 2.0484171322160147\n",
      "Health & Fitness : 2.0173805090006205\n",
      "Productivity : 1.7380509000620732\n",
      "Lifestyle : 1.5828677839851024\n",
      "News : 1.3345747982619491\n",
      "Travel : 1.2414649286157666\n",
      "Finance : 1.1173184357541899\n",
      "Weather : 0.8690254500310366\n",
      "Food & Drink : 0.8069522036002483\n",
      "Reference : 0.5586592178770949\n",
      "Business : 0.5276225946617008\n",
      "Book : 0.4345127250155183\n",
      "Navigation : 0.186219739292365\n",
      "Medical : 0.186219739292365\n",
      "Catalogs : 0.12414649286157665\n"
     ]
    }
   ],
   "source": [
    "def display_table(dataset, index):\n",
    "    table = freq_table(dataset, index)\n",
    "    table_display = []\n",
    "    for key in table:\n",
    "        key_val_as_tuple = (table[key], key)\n",
    "        table_display.append(key_val_as_tuple)\n",
    "\n",
    "    table_sorted = sorted(table_display, reverse = True)\n",
    "    for entry in table_sorted:\n",
    "        print(entry[1], ':', entry[0])\n",
    "        \n",
    "display_table(android_free,1)#Category\n",
    "print('------------')\n",
    "display_table(android_free,9)#Genre\n",
    "print('------------')\n",
    "display_table(apple_free,11)#prime_genre"
   ]
  },
  {
   "cell_type": "markdown",
   "metadata": {},
   "source": [
    "# App Store Analysis\n",
    "* It can be seens that the most common genre is Games for app store.\n",
    "\n",
    "* While it has the highest percentage with  %58.16, others continue with 7% and %4 which means there is a huge decrease after Games. But then the amount of decrease starts to decrease.\n",
    "\n",
    "* When we check the majority of the apps, most of the apps are designed for entertainment.\n",
    "\n",
    "* Even though the percentage of Games is the highest, it can not solely indicate that demand is highest on Games but it means most of the apps are Games.\n"
   ]
  },
  {
   "cell_type": "markdown",
   "metadata": {},
   "source": [
    "# Google Play Analysis\n",
    "* The top apps are usualy in genres of Tools, Entertainment, Education, Business, and Productivity.\n",
    "* Compared to the App store, decrease of the percentages from top to bottom is much slower in Google Play apps.\n",
    "* Still rather than the demand, they indicate the majority of apps in Google Play Store"
   ]
  },
  {
   "cell_type": "code",
   "execution_count": 47,
   "metadata": {
    "collapsed": false,
    "scrolled": true
   },
   "outputs": [
    {
     "name": "stdout",
     "output_type": "stream",
     "text": [
      "Reference : 74942.11111111111\n",
      "Medical : 612.0\n",
      "Entertainment : 14029.830708661417\n",
      "Lifestyle : 16485.764705882353\n",
      "Book : 39758.5\n",
      "Education : 7003.983050847458\n",
      "Productivity : 21028.410714285714\n",
      "Games : 22788.6696905016\n",
      "Utilities : 18684.456790123455\n",
      "Travel : 28243.8\n",
      "Business : 7491.117647058823\n",
      "Social Networking : 71548.34905660378\n",
      "Navigation : 86090.33333333333\n",
      "Shopping : 26919.690476190477\n",
      "Weather : 52279.892857142855\n",
      "Music : 57326.530303030304\n",
      "News : 21248.023255813954\n",
      "Health & Fitness : 23298.015384615384\n",
      "Photo & Video : 28441.54375\n",
      "Catalogs : 4004.0\n",
      "Finance : 31467.944444444445\n",
      "Food & Drink : 33333.92307692308\n",
      "Sports : 23008.898550724636\n"
     ]
    }
   ],
   "source": [
    "apple_genres = freq_table(apple_free,11)\n",
    "for genre in apple_genres:\n",
    "    total = 0\n",
    "    len_genre = 0\n",
    "    for row in apple_free:\n",
    "        genre_app = row[11]\n",
    "        if genre_app == genre:\n",
    "            num_rate = float(row[5])\n",
    "            total += num_rate\n",
    "            len_genre += 1\n",
    "    genre_avg = total / len_genre\n",
    "    print(genre,':',genre_avg)"
   ]
  },
  {
   "cell_type": "markdown",
   "metadata": {},
   "source": [
    "It seems best option for apple store is Navigation apps"
   ]
  },
  {
   "cell_type": "code",
   "execution_count": 49,
   "metadata": {
    "collapsed": false
   },
   "outputs": [
    {
     "name": "stdout",
     "output_type": "stream",
     "text": [
      "COMMUNICATION : 38456119.167247385\n",
      "PRODUCTIVITY : 16787331.344927534\n",
      "LIBRARIES_AND_DEMO : 638503.734939759\n",
      "MEDICAL : 120550.61980830671\n",
      "EDUCATION : 1833495.145631068\n",
      "NEWS_AND_MAGAZINES : 9549178.467741935\n",
      "BOOKS_AND_REFERENCE : 8767811.894736841\n",
      "HEALTH_AND_FITNESS : 4188821.9853479853\n",
      "MAPS_AND_NAVIGATION : 4056941.7741935486\n",
      "COMICS : 817657.2727272727\n",
      "ART_AND_DESIGN : 1986335.0877192982\n",
      "TRAVEL_AND_LOCAL : 13984077.710144928\n",
      "AUTO_AND_VEHICLES : 647317.8170731707\n",
      "GAME : 15588015.603248259\n",
      "BEAUTY : 513151.88679245283\n",
      "WEATHER : 5074486.197183099\n",
      "HOUSE_AND_HOME : 1331540.5616438356\n",
      "FINANCE : 1387692.475609756\n",
      "SPORTS : 3638640.1428571427\n",
      "SOCIAL : 23253652.127118643\n",
      "ENTERTAINMENT : 11640705.88235294\n",
      "TOOLS : 10801391.298666667\n",
      "DATING : 854028.8303030303\n",
      "LIFESTYLE : 1437816.2687861272\n",
      "PERSONALIZATION : 5201482.6122448975\n",
      "FOOD_AND_DRINK : 1924897.7363636363\n",
      "BUSINESS : 1712290.1474201474\n",
      "VIDEO_PLAYERS : 24727872.452830188\n",
      "SHOPPING : 7036877.311557789\n",
      "PARENTING : 542603.6206896552\n",
      "EVENTS : 253542.22222222222\n",
      "PHOTOGRAPHY : 17840110.40229885\n",
      "FAMILY : 3695641.8198090694\n"
     ]
    }
   ],
   "source": [
    "android_categ = freq_table(android_free,1)\n",
    "for category in android_categ:\n",
    "    total = 0\n",
    "    len_category = 0\n",
    "    for row in android_free:\n",
    "        category_app = row[1]\n",
    "        if category_app == category:\n",
    "            installs = row[5]\n",
    "            installs_cleared = float((row[5].replace('+','')).replace(',',''))\n",
    "            total += installs_cleared\n",
    "            len_category += 1\n",
    "    avg_installs = total / len_category\n",
    "    print(category,':',avg_installs)"
   ]
  },
  {
   "cell_type": "markdown",
   "metadata": {},
   "source": [
    "For android store, best option seems to be Communication Apps"
   ]
  }
 ],
 "metadata": {
  "kernelspec": {
   "display_name": "Python 3",
   "language": "python",
   "name": "python3"
  },
  "language_info": {
   "codemirror_mode": {
    "name": "ipython",
    "version": 3
   },
   "file_extension": ".py",
   "mimetype": "text/x-python",
   "name": "python",
   "nbconvert_exporter": "python",
   "pygments_lexer": "ipython3",
   "version": "3.4.3"
  }
 },
 "nbformat": 4,
 "nbformat_minor": 2
}
